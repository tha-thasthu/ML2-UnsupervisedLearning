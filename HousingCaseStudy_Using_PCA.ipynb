{
 "cells": [
  {
   "cell_type": "markdown",
   "metadata": {},
   "source": [
    "### Importing and Understanding Data"
   ]
  },
  {
   "cell_type": "code",
   "execution_count": 1,
   "metadata": {},
   "outputs": [],
   "source": [
    "import pandas as pd\n",
    "import numpy as np"
   ]
  },
  {
   "cell_type": "code",
   "execution_count": 2,
   "metadata": {},
   "outputs": [],
   "source": [
    "# Importing Housing.csv\n",
    "housing = pd.read_csv('newhousing.csv')"
   ]
  },
  {
   "cell_type": "code",
   "execution_count": 3,
   "metadata": {},
   "outputs": [
    {
     "data": {
      "text/html": [
       "<div>\n",
       "<style scoped>\n",
       "    .dataframe tbody tr th:only-of-type {\n",
       "        vertical-align: middle;\n",
       "    }\n",
       "\n",
       "    .dataframe tbody tr th {\n",
       "        vertical-align: top;\n",
       "    }\n",
       "\n",
       "    .dataframe thead th {\n",
       "        text-align: right;\n",
       "    }\n",
       "</style>\n",
       "<table border=\"1\" class=\"dataframe\">\n",
       "  <thead>\n",
       "    <tr style=\"text-align: right;\">\n",
       "      <th></th>\n",
       "      <th>price</th>\n",
       "      <th>area</th>\n",
       "      <th>bedrooms</th>\n",
       "      <th>bathrooms</th>\n",
       "      <th>stories</th>\n",
       "      <th>mainroad</th>\n",
       "      <th>guestroom</th>\n",
       "      <th>basement</th>\n",
       "      <th>hotwaterheating</th>\n",
       "      <th>airconditioning</th>\n",
       "      <th>parking</th>\n",
       "      <th>prefarea</th>\n",
       "      <th>semi-furnished</th>\n",
       "      <th>unfurnished</th>\n",
       "      <th>areaperbedroom</th>\n",
       "      <th>bbratio</th>\n",
       "    </tr>\n",
       "  </thead>\n",
       "  <tbody>\n",
       "    <tr>\n",
       "      <th>0</th>\n",
       "      <td>5250000</td>\n",
       "      <td>5500</td>\n",
       "      <td>3</td>\n",
       "      <td>2</td>\n",
       "      <td>1</td>\n",
       "      <td>1</td>\n",
       "      <td>0</td>\n",
       "      <td>1</td>\n",
       "      <td>0</td>\n",
       "      <td>0</td>\n",
       "      <td>0</td>\n",
       "      <td>0</td>\n",
       "      <td>1</td>\n",
       "      <td>0</td>\n",
       "      <td>1833.333333</td>\n",
       "      <td>0.666667</td>\n",
       "    </tr>\n",
       "    <tr>\n",
       "      <th>1</th>\n",
       "      <td>4480000</td>\n",
       "      <td>4040</td>\n",
       "      <td>3</td>\n",
       "      <td>1</td>\n",
       "      <td>2</td>\n",
       "      <td>1</td>\n",
       "      <td>0</td>\n",
       "      <td>0</td>\n",
       "      <td>0</td>\n",
       "      <td>0</td>\n",
       "      <td>1</td>\n",
       "      <td>0</td>\n",
       "      <td>1</td>\n",
       "      <td>0</td>\n",
       "      <td>1346.666667</td>\n",
       "      <td>0.333333</td>\n",
       "    </tr>\n",
       "    <tr>\n",
       "      <th>2</th>\n",
       "      <td>3570000</td>\n",
       "      <td>3640</td>\n",
       "      <td>2</td>\n",
       "      <td>1</td>\n",
       "      <td>1</td>\n",
       "      <td>1</td>\n",
       "      <td>0</td>\n",
       "      <td>0</td>\n",
       "      <td>0</td>\n",
       "      <td>0</td>\n",
       "      <td>0</td>\n",
       "      <td>0</td>\n",
       "      <td>0</td>\n",
       "      <td>1</td>\n",
       "      <td>1820.000000</td>\n",
       "      <td>0.500000</td>\n",
       "    </tr>\n",
       "    <tr>\n",
       "      <th>3</th>\n",
       "      <td>2870000</td>\n",
       "      <td>3040</td>\n",
       "      <td>2</td>\n",
       "      <td>1</td>\n",
       "      <td>1</td>\n",
       "      <td>0</td>\n",
       "      <td>0</td>\n",
       "      <td>0</td>\n",
       "      <td>0</td>\n",
       "      <td>0</td>\n",
       "      <td>0</td>\n",
       "      <td>0</td>\n",
       "      <td>0</td>\n",
       "      <td>1</td>\n",
       "      <td>1520.000000</td>\n",
       "      <td>0.500000</td>\n",
       "    </tr>\n",
       "    <tr>\n",
       "      <th>4</th>\n",
       "      <td>3570000</td>\n",
       "      <td>4500</td>\n",
       "      <td>2</td>\n",
       "      <td>1</td>\n",
       "      <td>1</td>\n",
       "      <td>0</td>\n",
       "      <td>0</td>\n",
       "      <td>0</td>\n",
       "      <td>0</td>\n",
       "      <td>0</td>\n",
       "      <td>0</td>\n",
       "      <td>0</td>\n",
       "      <td>0</td>\n",
       "      <td>0</td>\n",
       "      <td>2250.000000</td>\n",
       "      <td>0.500000</td>\n",
       "    </tr>\n",
       "  </tbody>\n",
       "</table>\n",
       "</div>"
      ],
      "text/plain": [
       "     price  area  bedrooms  bathrooms  stories  mainroad  guestroom  basement  \\\n",
       "0  5250000  5500         3          2        1         1          0         1   \n",
       "1  4480000  4040         3          1        2         1          0         0   \n",
       "2  3570000  3640         2          1        1         1          0         0   \n",
       "3  2870000  3040         2          1        1         0          0         0   \n",
       "4  3570000  4500         2          1        1         0          0         0   \n",
       "\n",
       "   hotwaterheating  airconditioning  parking  prefarea  semi-furnished  \\\n",
       "0                0                0        0         0               1   \n",
       "1                0                0        1         0               1   \n",
       "2                0                0        0         0               0   \n",
       "3                0                0        0         0               0   \n",
       "4                0                0        0         0               0   \n",
       "\n",
       "   unfurnished  areaperbedroom   bbratio  \n",
       "0            0     1833.333333  0.666667  \n",
       "1            0     1346.666667  0.333333  \n",
       "2            1     1820.000000  0.500000  \n",
       "3            1     1520.000000  0.500000  \n",
       "4            0     2250.000000  0.500000  "
      ]
     },
     "execution_count": 3,
     "metadata": {},
     "output_type": "execute_result"
    }
   ],
   "source": [
    "# Looking at the first five rows\n",
    "housing.head()"
   ]
  },
  {
   "cell_type": "code",
   "execution_count": 4,
   "metadata": {},
   "outputs": [
    {
     "data": {
      "text/plain": [
       "(545, 16)"
      ]
     },
     "execution_count": 4,
     "metadata": {},
     "output_type": "execute_result"
    }
   ],
   "source": [
    "housing.shape"
   ]
  },
  {
   "cell_type": "code",
   "execution_count": 5,
   "metadata": {},
   "outputs": [
    {
     "name": "stdout",
     "output_type": "stream",
     "text": [
      "<class 'pandas.core.frame.DataFrame'>\n",
      "RangeIndex: 545 entries, 0 to 544\n",
      "Data columns (total 16 columns):\n",
      " #   Column           Non-Null Count  Dtype  \n",
      "---  ------           --------------  -----  \n",
      " 0   price            545 non-null    int64  \n",
      " 1   area             545 non-null    int64  \n",
      " 2   bedrooms         545 non-null    int64  \n",
      " 3   bathrooms        545 non-null    int64  \n",
      " 4   stories          545 non-null    int64  \n",
      " 5   mainroad         545 non-null    int64  \n",
      " 6   guestroom        545 non-null    int64  \n",
      " 7   basement         545 non-null    int64  \n",
      " 8   hotwaterheating  545 non-null    int64  \n",
      " 9   airconditioning  545 non-null    int64  \n",
      " 10  parking          545 non-null    int64  \n",
      " 11  prefarea         545 non-null    int64  \n",
      " 12  semi-furnished   545 non-null    int64  \n",
      " 13  unfurnished      545 non-null    int64  \n",
      " 14  areaperbedroom   545 non-null    float64\n",
      " 15  bbratio          545 non-null    float64\n",
      "dtypes: float64(2), int64(14)\n",
      "memory usage: 68.2 KB\n"
     ]
    }
   ],
   "source": [
    "# What type of values are stored in the columns?\n",
    "housing.info()"
   ]
  },
  {
   "cell_type": "markdown",
   "metadata": {},
   "source": [
    "## Splitting Data into Training and Testing Sets"
   ]
  },
  {
   "cell_type": "code",
   "execution_count": 6,
   "metadata": {},
   "outputs": [
    {
     "data": {
      "text/plain": [
       "Index(['price', 'area', 'bedrooms', 'bathrooms', 'stories', 'mainroad',\n",
       "       'guestroom', 'basement', 'hotwaterheating', 'airconditioning',\n",
       "       'parking', 'prefarea', 'semi-furnished', 'unfurnished',\n",
       "       'areaperbedroom', 'bbratio'],\n",
       "      dtype='object')"
      ]
     },
     "execution_count": 6,
     "metadata": {},
     "output_type": "execute_result"
    }
   ],
   "source": [
    "housing.columns"
   ]
  },
  {
   "cell_type": "code",
   "execution_count": 7,
   "metadata": {},
   "outputs": [],
   "source": [
    "# Putting feature variable to X\n",
    "X = housing[['area', 'bedrooms', 'bathrooms', 'stories', 'mainroad',\n",
    "       'guestroom', 'basement', 'hotwaterheating', 'airconditioning',\n",
    "       'parking', 'prefarea', 'semi-furnished', 'unfurnished',\n",
    "       'areaperbedroom', 'bbratio']]\n",
    "\n",
    "# Putting response variable to y\n",
    "y = housing['price']"
   ]
  },
  {
   "cell_type": "code",
   "execution_count": 8,
   "metadata": {},
   "outputs": [
    {
     "data": {
      "text/plain": [
       "<AxesSubplot:>"
      ]
     },
     "execution_count": 8,
     "metadata": {},
     "output_type": "execute_result"
    },
    {
     "data": {
      "image/png": "[encoded data removed]",
      "text/plain": [
       "<Figure size 1152x720 with 2 Axes>"
      ]
     },
     "metadata": {
      "needs_background": "light"
     },
     "output_type": "display_data"
    }
   ],
   "source": [
    "# Importing matplotlib and seaborn\n",
    "import matplotlib.pyplot as plt\n",
    "import seaborn as sns\n",
    "%matplotlib inline\n",
    "# Let's see the correlation matrix \n",
    "plt.figure(figsize = (16,10))     # Size of the figure\n",
    "sns.heatmap(X.corr(),annot = True)"
   ]
  },
  {
   "cell_type": "code",
   "execution_count": 9,
   "metadata": {},
   "outputs": [],
   "source": [
    "#creating correlation matrix for the given data\n",
    "corrmat = np.corrcoef(X.transpose())"
   ]
  },
  {
   "cell_type": "code",
   "execution_count": 43,
   "metadata": {
    "scrolled": true
   },
   "outputs": [
    {
     "data": {
      "text/plain": [
       "array([[ 1.        ,  0.15185849,  0.19381953,  0.08399605,  0.28887411,\n",
       "         0.14029659,  0.04741699, -0.00922924,  0.2223931 ,  0.35298048,\n",
       "         0.2347788 ,  0.00615616, -0.14227821,  0.80561042,  0.0571156 ],\n",
       "       [ 0.15185849,  1.        ,  0.37393024,  0.40856424, -0.01203324,\n",
       "         0.0805487 ,  0.09731242,  0.04604889,  0.16060326,  0.1392699 ,\n",
       "         0.07902306,  0.05003995, -0.12625202, -0.39725852, -0.31730317],\n",
       "       [ 0.19381953,  0.37393024,  1.        ,  0.32616471,  0.04239762,\n",
       "         0.12646884,  0.10210571,  0.0671591 ,  0.18691503,  0.17749582,\n",
       "         0.06347174,  0.02983353, -0.13210748, -0.0523518 ,  0.72715441],\n",
       "       [ 0.08399605,  0.40856424,  0.32616471,  1.        ,  0.12170613,\n",
       "         0.04353767, -0.17239362,  0.01884651,  0.293602  ,  0.04554709,\n",
       "         0.04442487, -0.0036483 , -0.08297194, -0.17894208,  0.0329617 ],\n",
       "       [ 0.28887411, -0.01203324,  0.04239762,  0.12170613,  1.        ,\n",
       "         0.09233692,  0.04400208, -0.01178149,  0.105423  ,  0.20443255,\n",
       "         0.19987578,  0.01145033, -0.13312327,  0.2498294 ,  0.03040739],\n",
       "       [ 0.14029659,  0.0805487 ,  0.12646884,  0.04353767,  0.09233692,\n",
       "         1.        ,  0.37206571, -0.01030788,  0.13817877,  0.03746575,\n",
       "         0.16089694,  0.00582058, -0.09902318,  0.05431176,  0.07585397],\n",
       "       [ 0.04741699,  0.09731242,  0.10210571, -0.17239362,  0.04400208,\n",
       "         0.37206571,  1.        ,  0.00438484,  0.04734119,  0.05149718,\n",
       "         0.22808285,  0.05028441, -0.11793533, -0.01703401,  0.04734613],\n",
       "       [-0.00922924,  0.04604889,  0.0671591 ,  0.01884651, -0.01178149,\n",
       "        -0.01030788,  0.00438484,  1.        , -0.13002283,  0.06786389,\n",
       "        -0.05941138,  0.06381879, -0.05919355, -0.0216345 ,  0.02151998],\n",
       "       [ 0.2223931 ,  0.16060326,  0.18691503,  0.293602  ,  0.105423  ,\n",
       "         0.13817877,  0.04734119, -0.13002283,  1.        ,  0.15917268,\n",
       "         0.1173821 , -0.0531794 , -0.09408642,  0.09682963,  0.06464879],\n",
       "       [ 0.35298048,  0.1392699 ,  0.17749582,  0.04554709,  0.20443255,\n",
       "         0.03746575,  0.05149718,  0.06786389,  0.15917268,  1.        ,\n",
       "         0.09162706,  0.04132679, -0.16570544,  0.22438749,  0.06410694],\n",
       "       [ 0.2347788 ,  0.07902306,  0.06347174,  0.04442487,  0.19987578,\n",
       "         0.16089694,  0.22808285, -0.05941138,  0.1173821 ,  0.09162706,\n",
       "         1.        , -0.01153489, -0.08127083,  0.14157641, -0.01858507],\n",
       "       [ 0.00615616,  0.05003995,  0.02983353, -0.0036483 ,  0.01145033,\n",
       "         0.00582058,  0.05028441,  0.06381879, -0.0531794 ,  0.04132679,\n",
       "        -0.01153489,  1.        , -0.58840498, -0.02890916, -0.01301615],\n",
       "       [-0.14227821, -0.12625202, -0.13210748, -0.08297194, -0.13312327,\n",
       "        -0.09902318, -0.11793533, -0.05919355, -0.09408642, -0.16570544,\n",
       "        -0.08127083, -0.58840498,  1.        , -0.06232323, -0.04138694],\n",
       "       [ 0.80561042, -0.39725852, -0.0523518 , -0.17894208,  0.2498294 ,\n",
       "         0.05431176, -0.01703401, -0.0216345 ,  0.09682963,  0.22438749,\n",
       "         0.14157641, -0.02890916, -0.06232323,  1.        ,  0.22524165],\n",
       "       [ 0.0571156 , -0.31730317,  0.72715441,  0.0329617 ,  0.03040739,\n",
       "         0.07585397,  0.04734613,  0.02151998,  0.06464879,  0.06410694,\n",
       "        -0.01858507, -0.01301615, -0.04138694,  0.22524165,  1.        ]])"
      ]
     },
     "execution_count": 43,
     "metadata": {},
     "output_type": "execute_result"
    }
   ],
   "source": [
    "corrmat"
   ]
  },
  {
   "cell_type": "code",
   "execution_count": 10,
   "metadata": {},
   "outputs": [],
   "source": [
    "#Make a diagonal matrix with diagonal entry of Matrix corrmat\n",
    "p=np.diagflat(corrmat.diagonal())"
   ]
  },
  {
   "cell_type": "code",
   "execution_count": 44,
   "metadata": {},
   "outputs": [
    {
     "data": {
      "text/plain": [
       "array([[1., 0., 0., 0., 0., 0., 0., 0., 0., 0., 0., 0., 0., 0., 0.],\n",
       "       [0., 1., 0., 0., 0., 0., 0., 0., 0., 0., 0., 0., 0., 0., 0.],\n",
       "       [0., 0., 1., 0., 0., 0., 0., 0., 0., 0., 0., 0., 0., 0., 0.],\n",
       "       [0., 0., 0., 1., 0., 0., 0., 0., 0., 0., 0., 0., 0., 0., 0.],\n",
       "       [0., 0., 0., 0., 1., 0., 0., 0., 0., 0., 0., 0., 0., 0., 0.],\n",
       "       [0., 0., 0., 0., 0., 1., 0., 0., 0., 0., 0., 0., 0., 0., 0.],\n",
       "       [0., 0., 0., 0., 0., 0., 1., 0., 0., 0., 0., 0., 0., 0., 0.],\n",
       "       [0., 0., 0., 0., 0., 0., 0., 1., 0., 0., 0., 0., 0., 0., 0.],\n",
       "       [0., 0., 0., 0., 0., 0., 0., 0., 1., 0., 0., 0., 0., 0., 0.],\n",
       "       [0., 0., 0., 0., 0., 0., 0., 0., 0., 1., 0., 0., 0., 0., 0.],\n",
       "       [0., 0., 0., 0., 0., 0., 0., 0., 0., 0., 1., 0., 0., 0., 0.],\n",
       "       [0., 0., 0., 0., 0., 0., 0., 0., 0., 0., 0., 1., 0., 0., 0.],\n",
       "       [0., 0., 0., 0., 0., 0., 0., 0., 0., 0., 0., 0., 1., 0., 0.],\n",
       "       [0., 0., 0., 0., 0., 0., 0., 0., 0., 0., 0., 0., 0., 1., 0.],\n",
       "       [0., 0., 0., 0., 0., 0., 0., 0., 0., 0., 0., 0., 0., 0., 1.]])"
      ]
     },
     "execution_count": 44,
     "metadata": {},
     "output_type": "execute_result"
    }
   ],
   "source": [
    "p"
   ]
  },
  {
   "cell_type": "code",
   "execution_count": 11,
   "metadata": {},
   "outputs": [
    {
     "name": "stdout",
     "output_type": "stream",
     "text": [
      "max corr: 0.8056104195904634 , min corr:  -0.5884049771343842\n"
     ]
    }
   ],
   "source": [
    "# subtract diagonal entries making all diagonals 0\n",
    "corrmat_diag_zero = corrmat - p\n",
    "print(\"max corr:\",corrmat_diag_zero.max(), \", min corr: \", corrmat_diag_zero.min(),)\n"
   ]
  },
  {
   "cell_type": "code",
   "execution_count": 45,
   "metadata": {
    "scrolled": true
   },
   "outputs": [
    {
     "data": {
      "text/plain": [
       "array([[ 0.        ,  0.15185849,  0.19381953,  0.08399605,  0.28887411,\n",
       "         0.14029659,  0.04741699, -0.00922924,  0.2223931 ,  0.35298048,\n",
       "         0.2347788 ,  0.00615616, -0.14227821,  0.80561042,  0.0571156 ],\n",
       "       [ 0.15185849,  0.        ,  0.37393024,  0.40856424, -0.01203324,\n",
       "         0.0805487 ,  0.09731242,  0.04604889,  0.16060326,  0.1392699 ,\n",
       "         0.07902306,  0.05003995, -0.12625202, -0.39725852, -0.31730317],\n",
       "       [ 0.19381953,  0.37393024,  0.        ,  0.32616471,  0.04239762,\n",
       "         0.12646884,  0.10210571,  0.0671591 ,  0.18691503,  0.17749582,\n",
       "         0.06347174,  0.02983353, -0.13210748, -0.0523518 ,  0.72715441],\n",
       "       [ 0.08399605,  0.40856424,  0.32616471,  0.        ,  0.12170613,\n",
       "         0.04353767, -0.17239362,  0.01884651,  0.293602  ,  0.04554709,\n",
       "         0.04442487, -0.0036483 , -0.08297194, -0.17894208,  0.0329617 ],\n",
       "       [ 0.28887411, -0.01203324,  0.04239762,  0.12170613,  0.        ,\n",
       "         0.09233692,  0.04400208, -0.01178149,  0.105423  ,  0.20443255,\n",
       "         0.19987578,  0.01145033, -0.13312327,  0.2498294 ,  0.03040739],\n",
       "       [ 0.14029659,  0.0805487 ,  0.12646884,  0.04353767,  0.09233692,\n",
       "         0.        ,  0.37206571, -0.01030788,  0.13817877,  0.03746575,\n",
       "         0.16089694,  0.00582058, -0.09902318,  0.05431176,  0.07585397],\n",
       "       [ 0.04741699,  0.09731242,  0.10210571, -0.17239362,  0.04400208,\n",
       "         0.37206571,  0.        ,  0.00438484,  0.04734119,  0.05149718,\n",
       "         0.22808285,  0.05028441, -0.11793533, -0.01703401,  0.04734613],\n",
       "       [-0.00922924,  0.04604889,  0.0671591 ,  0.01884651, -0.01178149,\n",
       "        -0.01030788,  0.00438484,  0.        , -0.13002283,  0.06786389,\n",
       "        -0.05941138,  0.06381879, -0.05919355, -0.0216345 ,  0.02151998],\n",
       "       [ 0.2223931 ,  0.16060326,  0.18691503,  0.293602  ,  0.105423  ,\n",
       "         0.13817877,  0.04734119, -0.13002283,  0.        ,  0.15917268,\n",
       "         0.1173821 , -0.0531794 , -0.09408642,  0.09682963,  0.06464879],\n",
       "       [ 0.35298048,  0.1392699 ,  0.17749582,  0.04554709,  0.20443255,\n",
       "         0.03746575,  0.05149718,  0.06786389,  0.15917268,  0.        ,\n",
       "         0.09162706,  0.04132679, -0.16570544,  0.22438749,  0.06410694],\n",
       "       [ 0.2347788 ,  0.07902306,  0.06347174,  0.04442487,  0.19987578,\n",
       "         0.16089694,  0.22808285, -0.05941138,  0.1173821 ,  0.09162706,\n",
       "         0.        , -0.01153489, -0.08127083,  0.14157641, -0.01858507],\n",
       "       [ 0.00615616,  0.05003995,  0.02983353, -0.0036483 ,  0.01145033,\n",
       "         0.00582058,  0.05028441,  0.06381879, -0.0531794 ,  0.04132679,\n",
       "        -0.01153489,  0.        , -0.58840498, -0.02890916, -0.01301615],\n",
       "       [-0.14227821, -0.12625202, -0.13210748, -0.08297194, -0.13312327,\n",
       "        -0.09902318, -0.11793533, -0.05919355, -0.09408642, -0.16570544,\n",
       "        -0.08127083, -0.58840498,  0.        , -0.06232323, -0.04138694],\n",
       "       [ 0.80561042, -0.39725852, -0.0523518 , -0.17894208,  0.2498294 ,\n",
       "         0.05431176, -0.01703401, -0.0216345 ,  0.09682963,  0.22438749,\n",
       "         0.14157641, -0.02890916, -0.06232323,  0.        ,  0.22524165],\n",
       "       [ 0.0571156 , -0.31730317,  0.72715441,  0.0329617 ,  0.03040739,\n",
       "         0.07585397,  0.04734613,  0.02151998,  0.06464879,  0.06410694,\n",
       "        -0.01858507, -0.01301615, -0.04138694,  0.22524165,  0.        ]])"
      ]
     },
     "execution_count": 45,
     "metadata": {},
     "output_type": "execute_result"
    }
   ],
   "source": [
    "corrmat_diag_zero"
   ]
  },
  {
   "cell_type": "code",
   "execution_count": 46,
   "metadata": {},
   "outputs": [
    {
     "data": {
      "text/plain": [
       "13"
      ]
     },
     "execution_count": 46,
     "metadata": {},
     "output_type": "execute_result"
    }
   ],
   "source": [
    "corrmat_diag_zero.argmax()"
   ]
  },
  {
   "cell_type": "code",
   "execution_count": 47,
   "metadata": {},
   "outputs": [
    {
     "data": {
      "text/plain": [
       "(15, 15)"
      ]
     },
     "execution_count": 47,
     "metadata": {},
     "output_type": "execute_result"
    }
   ],
   "source": [
    "corrmat_diag_zero.shape"
   ]
  },
  {
   "cell_type": "code",
   "execution_count": 12,
   "metadata": {},
   "outputs": [
    {
     "name": "stdout",
     "output_type": "stream",
     "text": [
      "ij_max (0, 13)\n",
      "Maximum correlation : 0.8056104195904634\n"
     ]
    }
   ],
   "source": [
    "# Retrieve the (i,j) index for which matrix has maximum value\n",
    "ij_max = np.unravel_index(corrmat_diag_zero.argmax(), corrmat_diag_zero.shape)\n",
    "print(\"ij_max\",ij_max)\n",
    "print(\"Maximum correlation :\",corrmat_diag_zero[ij_max])"
   ]
  },
  {
   "cell_type": "code",
   "execution_count": 13,
   "metadata": {},
   "outputs": [
    {
     "name": "stdout",
     "output_type": "stream",
     "text": [
      "ij_min (3, 11)\n",
      "Minimum correlation : -0.0036483046040634956\n"
     ]
    }
   ],
   "source": [
    "# Retrieve the (i,j) index for which matrix has absolute minimum value\n",
    "ij_min = np.unravel_index(np.absolute(corrmat).argmin(), corrmat.shape)\n",
    "print(\"ij_min\",ij_min)\n",
    "print(\"Minimum correlation :\",corrmat_diag_zero[ij_min])"
   ]
  },
  {
   "cell_type": "code",
   "execution_count": 14,
   "metadata": {},
   "outputs": [],
   "source": [
    "#random_state is the seed used by the random number generator, it can be any integer.\n",
    "from sklearn.model_selection import train_test_split\n",
    "X_train, X_test, y_train, y_test = train_test_split(X, y, train_size=0.7 ,test_size = 0.3, random_state=100)"
   ]
  },
  {
   "cell_type": "markdown",
   "metadata": {},
   "source": [
    "### Question No. 1 --\n"
   ]
  },
  {
   "cell_type": "code",
   "execution_count": 16,
   "metadata": {},
   "outputs": [
    {
     "data": {
      "text/plain": [
       "(381, 15)"
      ]
     },
     "execution_count": 16,
     "metadata": {},
     "output_type": "execute_result"
    }
   ],
   "source": [
    "X_train.shape\n",
    "# We have 15 variables after splitting the data"
   ]
  },
  {
   "cell_type": "code",
   "execution_count": 15,
   "metadata": {},
   "outputs": [],
   "source": [
    "from sklearn import preprocessing\n",
    "X_scaler = preprocessing.StandardScaler().fit(X_train)\n",
    "y_scaler = preprocessing.StandardScaler().fit(y_train.values.reshape(-1,1))\n",
    "Xtrain=X_scaler.transform(X_train) \n",
    "ytrain=y_scaler.transform(y_train.values.reshape(-1,1)) "
   ]
  },
  {
   "cell_type": "code",
   "execution_count": 16,
   "metadata": {},
   "outputs": [
    {
     "data": {
      "text/plain": [
       "(381, 15)"
      ]
     },
     "execution_count": 16,
     "metadata": {},
     "output_type": "execute_result"
    }
   ],
   "source": [
    "Xtrain.shape"
   ]
  },
  {
   "cell_type": "code",
   "execution_count": 27,
   "metadata": {},
   "outputs": [
    {
     "data": {
      "text/plain": [
       "array([[-0.86899894, -1.31819228, -0.5308788 , ...,  1.41421356,\n",
       "        -0.24401432,  0.40822103],\n",
       "       [ 0.89973085,  0.04656657,  1.51220021, ...,  1.41421356,\n",
       "         0.68847058,  1.48830582],\n",
       "       [ 0.76735848,  0.04656657, -0.5308788 , ..., -0.70710678,\n",
       "         0.56942131, -0.67186377],\n",
       "       ...,\n",
       "       [ 0.82970451,  0.04656657, -0.5308788 , ..., -0.70710678,\n",
       "         0.62549229, -0.67186377],\n",
       "       [ 0.10685198,  1.41132543,  1.51220021, ...,  1.41421356,\n",
       "        -0.57312663,  0.40822103],\n",
       "       [ 0.37792168,  1.41132543,  1.51220021, ..., -0.70710678,\n",
       "        -0.39028646,  0.40822103]])"
      ]
     },
     "execution_count": 27,
     "metadata": {},
     "output_type": "execute_result"
    }
   ],
   "source": [
    "Xtrain"
   ]
  },
  {
   "cell_type": "code",
   "execution_count": 17,
   "metadata": {},
   "outputs": [
    {
     "data": {
      "text/plain": [
       "4.98610656210858"
      ]
     },
     "execution_count": 17,
     "metadata": {},
     "output_type": "execute_result"
    }
   ],
   "source": [
    "# What would the maximum value of the area column be after the standardisation of the training data?\n",
    "xtrain_df = pd.DataFrame(Xtrain,columns=X_train.columns)\n",
    "Xtrain[:,0].max()\n",
    "xtrain_df['area'].max()"
   ]
  },
  {
   "cell_type": "code",
   "execution_count": 28,
   "metadata": {},
   "outputs": [
    {
     "data": {
      "text/html": [
       "<div>\n",
       "<style scoped>\n",
       "    .dataframe tbody tr th:only-of-type {\n",
       "        vertical-align: middle;\n",
       "    }\n",
       "\n",
       "    .dataframe tbody tr th {\n",
       "        vertical-align: top;\n",
       "    }\n",
       "\n",
       "    .dataframe thead th {\n",
       "        text-align: right;\n",
       "    }\n",
       "</style>\n",
       "<table border=\"1\" class=\"dataframe\">\n",
       "  <thead>\n",
       "    <tr style=\"text-align: right;\">\n",
       "      <th></th>\n",
       "      <th>area</th>\n",
       "      <th>bedrooms</th>\n",
       "      <th>bathrooms</th>\n",
       "      <th>stories</th>\n",
       "      <th>mainroad</th>\n",
       "      <th>guestroom</th>\n",
       "      <th>basement</th>\n",
       "      <th>hotwaterheating</th>\n",
       "      <th>airconditioning</th>\n",
       "      <th>parking</th>\n",
       "      <th>prefarea</th>\n",
       "      <th>semi-furnished</th>\n",
       "      <th>unfurnished</th>\n",
       "      <th>areaperbedroom</th>\n",
       "      <th>bbratio</th>\n",
       "    </tr>\n",
       "  </thead>\n",
       "  <tbody>\n",
       "    <tr>\n",
       "      <th>count</th>\n",
       "      <td>3.810000e+02</td>\n",
       "      <td>3.810000e+02</td>\n",
       "      <td>3.810000e+02</td>\n",
       "      <td>3.810000e+02</td>\n",
       "      <td>3.810000e+02</td>\n",
       "      <td>3.810000e+02</td>\n",
       "      <td>3.810000e+02</td>\n",
       "      <td>3.810000e+02</td>\n",
       "      <td>3.810000e+02</td>\n",
       "      <td>3.810000e+02</td>\n",
       "      <td>3.810000e+02</td>\n",
       "      <td>3.810000e+02</td>\n",
       "      <td>3.810000e+02</td>\n",
       "      <td>3.810000e+02</td>\n",
       "      <td>3.810000e+02</td>\n",
       "    </tr>\n",
       "    <tr>\n",
       "      <th>mean</th>\n",
       "      <td>-1.567717e-16</td>\n",
       "      <td>-2.913971e-17</td>\n",
       "      <td>-2.564295e-17</td>\n",
       "      <td>6.527295e-17</td>\n",
       "      <td>3.700743e-17</td>\n",
       "      <td>1.165588e-17</td>\n",
       "      <td>-1.171416e-16</td>\n",
       "      <td>-7.736594e-17</td>\n",
       "      <td>1.620168e-16</td>\n",
       "      <td>-1.054858e-16</td>\n",
       "      <td>-2.331177e-17</td>\n",
       "      <td>2.103887e-16</td>\n",
       "      <td>-1.573544e-17</td>\n",
       "      <td>1.046116e-16</td>\n",
       "      <td>-2.913971e-17</td>\n",
       "    </tr>\n",
       "    <tr>\n",
       "      <th>std</th>\n",
       "      <td>1.001315e+00</td>\n",
       "      <td>1.001315e+00</td>\n",
       "      <td>1.001315e+00</td>\n",
       "      <td>1.001315e+00</td>\n",
       "      <td>1.001315e+00</td>\n",
       "      <td>1.001315e+00</td>\n",
       "      <td>1.001315e+00</td>\n",
       "      <td>1.001315e+00</td>\n",
       "      <td>1.001315e+00</td>\n",
       "      <td>1.001315e+00</td>\n",
       "      <td>1.001315e+00</td>\n",
       "      <td>1.001315e+00</td>\n",
       "      <td>1.001315e+00</td>\n",
       "      <td>1.001315e+00</td>\n",
       "      <td>1.001315e+00</td>\n",
       "    </tr>\n",
       "    <tr>\n",
       "      <th>min</th>\n",
       "      <td>-1.587334e+00</td>\n",
       "      <td>-2.682951e+00</td>\n",
       "      <td>-5.308788e-01</td>\n",
       "      <td>-9.372135e-01</td>\n",
       "      <td>-2.359866e+00</td>\n",
       "      <td>-4.323377e-01</td>\n",
       "      <td>-7.029350e-01</td>\n",
       "      <td>-2.226809e-01</td>\n",
       "      <td>-6.534266e-01</td>\n",
       "      <td>-8.102059e-01</td>\n",
       "      <td>-5.439838e-01</td>\n",
       "      <td>-8.462956e-01</td>\n",
       "      <td>-7.071068e-01</td>\n",
       "      <td>-1.754274e+00</td>\n",
       "      <td>-1.751949e+00</td>\n",
       "    </tr>\n",
       "    <tr>\n",
       "      <th>25%</th>\n",
       "      <td>-7.424997e-01</td>\n",
       "      <td>-1.318192e+00</td>\n",
       "      <td>-5.308788e-01</td>\n",
       "      <td>-9.372135e-01</td>\n",
       "      <td>4.237530e-01</td>\n",
       "      <td>-4.323377e-01</td>\n",
       "      <td>-7.029350e-01</td>\n",
       "      <td>-2.226809e-01</td>\n",
       "      <td>-6.534266e-01</td>\n",
       "      <td>-8.102059e-01</td>\n",
       "      <td>-5.439838e-01</td>\n",
       "      <td>-8.462956e-01</td>\n",
       "      <td>-7.071068e-01</td>\n",
       "      <td>-7.397143e-01</td>\n",
       "      <td>-6.718638e-01</td>\n",
       "    </tr>\n",
       "    <tr>\n",
       "      <th>50%</th>\n",
       "      <td>-2.365030e-01</td>\n",
       "      <td>4.656657e-02</td>\n",
       "      <td>-5.308788e-01</td>\n",
       "      <td>2.259081e-01</td>\n",
       "      <td>4.237530e-01</td>\n",
       "      <td>-4.323377e-01</td>\n",
       "      <td>-7.029350e-01</td>\n",
       "      <td>-2.226809e-01</td>\n",
       "      <td>-6.534266e-01</td>\n",
       "      <td>-8.102059e-01</td>\n",
       "      <td>-5.439838e-01</td>\n",
       "      <td>-8.462956e-01</td>\n",
       "      <td>-7.071068e-01</td>\n",
       "      <td>-1.562510e-01</td>\n",
       "      <td>-6.718638e-01</td>\n",
       "    </tr>\n",
       "    <tr>\n",
       "      <th>75%</th>\n",
       "      <td>5.405635e-01</td>\n",
       "      <td>4.656657e-02</td>\n",
       "      <td>-5.308788e-01</td>\n",
       "      <td>2.259081e-01</td>\n",
       "      <td>4.237530e-01</td>\n",
       "      <td>-4.323377e-01</td>\n",
       "      <td>1.422607e+00</td>\n",
       "      <td>-2.226809e-01</td>\n",
       "      <td>1.530394e+00</td>\n",
       "      <td>3.246781e-01</td>\n",
       "      <td>-5.439838e-01</td>\n",
       "      <td>1.181620e+00</td>\n",
       "      <td>1.414214e+00</td>\n",
       "      <td>5.117251e-01</td>\n",
       "      <td>4.082210e-01</td>\n",
       "    </tr>\n",
       "    <tr>\n",
       "      <th>max</th>\n",
       "      <td>4.986107e+00</td>\n",
       "      <td>4.140843e+00</td>\n",
       "      <td>5.598358e+00</td>\n",
       "      <td>2.552151e+00</td>\n",
       "      <td>4.237530e-01</td>\n",
       "      <td>2.313007e+00</td>\n",
       "      <td>1.422607e+00</td>\n",
       "      <td>4.490731e+00</td>\n",
       "      <td>1.530394e+00</td>\n",
       "      <td>2.594446e+00</td>\n",
       "      <td>1.838290e+00</td>\n",
       "      <td>1.181620e+00</td>\n",
       "      <td>1.414214e+00</td>\n",
       "      <td>4.735333e+00</td>\n",
       "      <td>3.648475e+00</td>\n",
       "    </tr>\n",
       "  </tbody>\n",
       "</table>\n",
       "</div>"
      ],
      "text/plain": [
       "               area      bedrooms     bathrooms       stories      mainroad  \\\n",
       "count  3.810000e+02  3.810000e+02  3.810000e+02  3.810000e+02  3.810000e+02   \n",
       "mean  -1.567717e-16 -2.913971e-17 -2.564295e-17  6.527295e-17  3.700743e-17   \n",
       "std    1.001315e+00  1.001315e+00  1.001315e+00  1.001315e+00  1.001315e+00   \n",
       "min   -1.587334e+00 -2.682951e+00 -5.308788e-01 -9.372135e-01 -2.359866e+00   \n",
       "25%   -7.424997e-01 -1.318192e+00 -5.308788e-01 -9.372135e-01  4.237530e-01   \n",
       "50%   -2.365030e-01  4.656657e-02 -5.308788e-01  2.259081e-01  4.237530e-01   \n",
       "75%    5.405635e-01  4.656657e-02 -5.308788e-01  2.259081e-01  4.237530e-01   \n",
       "max    4.986107e+00  4.140843e+00  5.598358e+00  2.552151e+00  4.237530e-01   \n",
       "\n",
       "          guestroom      basement  hotwaterheating  airconditioning  \\\n",
       "count  3.810000e+02  3.810000e+02     3.810000e+02     3.810000e+02   \n",
       "mean   1.165588e-17 -1.171416e-16    -7.736594e-17     1.620168e-16   \n",
       "std    1.001315e+00  1.001315e+00     1.001315e+00     1.001315e+00   \n",
       "min   -4.323377e-01 -7.029350e-01    -2.226809e-01    -6.534266e-01   \n",
       "25%   -4.323377e-01 -7.029350e-01    -2.226809e-01    -6.534266e-01   \n",
       "50%   -4.323377e-01 -7.029350e-01    -2.226809e-01    -6.534266e-01   \n",
       "75%   -4.323377e-01  1.422607e+00    -2.226809e-01     1.530394e+00   \n",
       "max    2.313007e+00  1.422607e+00     4.490731e+00     1.530394e+00   \n",
       "\n",
       "            parking      prefarea  semi-furnished   unfurnished  \\\n",
       "count  3.810000e+02  3.810000e+02    3.810000e+02  3.810000e+02   \n",
       "mean  -1.054858e-16 -2.331177e-17    2.103887e-16 -1.573544e-17   \n",
       "std    1.001315e+00  1.001315e+00    1.001315e+00  1.001315e+00   \n",
       "min   -8.102059e-01 -5.439838e-01   -8.462956e-01 -7.071068e-01   \n",
       "25%   -8.102059e-01 -5.439838e-01   -8.462956e-01 -7.071068e-01   \n",
       "50%   -8.102059e-01 -5.439838e-01   -8.462956e-01 -7.071068e-01   \n",
       "75%    3.246781e-01 -5.439838e-01    1.181620e+00  1.414214e+00   \n",
       "max    2.594446e+00  1.838290e+00    1.181620e+00  1.414214e+00   \n",
       "\n",
       "       areaperbedroom       bbratio  \n",
       "count    3.810000e+02  3.810000e+02  \n",
       "mean     1.046116e-16 -2.913971e-17  \n",
       "std      1.001315e+00  1.001315e+00  \n",
       "min     -1.754274e+00 -1.751949e+00  \n",
       "25%     -7.397143e-01 -6.718638e-01  \n",
       "50%     -1.562510e-01 -6.718638e-01  \n",
       "75%      5.117251e-01  4.082210e-01  \n",
       "max      4.735333e+00  3.648475e+00  "
      ]
     },
     "execution_count": 28,
     "metadata": {},
     "output_type": "execute_result"
    }
   ],
   "source": [
    "xtrain_df.describe()"
   ]
  },
  {
   "cell_type": "code",
   "execution_count": 29,
   "metadata": {},
   "outputs": [
    {
     "data": {
      "text/plain": [
       "(381, 1)"
      ]
     },
     "execution_count": 29,
     "metadata": {},
     "output_type": "execute_result"
    }
   ],
   "source": [
    "ytrain.shape"
   ]
  },
  {
   "cell_type": "code",
   "execution_count": 30,
   "metadata": {},
   "outputs": [],
   "source": [
    "Xtest=X_scaler.transform(X_test) \n",
    "ytest=y_scaler.transform(y_test.values.reshape(-1,1))"
   ]
  },
  {
   "cell_type": "code",
   "execution_count": 31,
   "metadata": {},
   "outputs": [
    {
     "data": {
      "text/plain": [
       "-0.4323377011671169"
      ]
     },
     "execution_count": 31,
     "metadata": {},
     "output_type": "execute_result"
    }
   ],
   "source": [
    "xtest_df = pd.DataFrame(Xtest,columns=X_train.columns)\n",
    "xtest_df['guestroom'].min()"
   ]
  },
  {
   "cell_type": "markdown",
   "metadata": {},
   "source": [
    "### Question No. 2 --"
   ]
  },
  {
   "cell_type": "code",
   "execution_count": 32,
   "metadata": {},
   "outputs": [],
   "source": [
    "import matplotlib.pyplot as plt\n",
    "import numpy as np\n",
    "from sklearn import  linear_model\n",
    "from sklearn.metrics import mean_squared_error, r2_score\n",
    "# Create linear regression object\n",
    "regr = linear_model.LinearRegression()\n",
    "# Train the model using the training sets\n",
    "regr.fit(Xtrain, ytrain)\n",
    "# Make predictions using the testing set\n",
    "y_pred = regr.predict(Xtest)"
   ]
  },
  {
   "cell_type": "code",
   "execution_count": 33,
   "metadata": {},
   "outputs": [
    {
     "name": "stdout",
     "output_type": "stream",
     "text": [
      "Mean squared error: 0.35\n",
      "R2 score: 0.65\n"
     ]
    }
   ],
   "source": [
    "print(\"Mean squared error: %.2f\" % mean_squared_error(ytest, y_pred))\n",
    "# Explained variance score: 1 is perfect prediction\n",
    "print('R2 score: %.2f' % r2_score(ytest, y_pred))"
   ]
  },
  {
   "cell_type": "code",
   "execution_count": null,
   "metadata": {},
   "outputs": [],
   "source": []
  },
  {
   "cell_type": "code",
   "execution_count": 34,
   "metadata": {},
   "outputs": [
    {
     "data": {
      "text/plain": [
       "0.650291403036704"
      ]
     },
     "execution_count": 34,
     "metadata": {},
     "output_type": "execute_result"
    }
   ],
   "source": [
    "from sklearn.metrics import explained_variance_score\n",
    "explained_variance_score(ytest, y_pred) "
   ]
  },
  {
   "cell_type": "markdown",
   "metadata": {},
   "source": [
    "### Question No. 3 --"
   ]
  },
  {
   "cell_type": "code",
   "execution_count": 35,
   "metadata": {},
   "outputs": [],
   "source": [
    "#Importing the PCA module\n",
    "from sklearn.decomposition import PCA\n",
    "pca = PCA( random_state=100)"
   ]
  },
  {
   "cell_type": "code",
   "execution_count": 36,
   "metadata": {},
   "outputs": [
    {
     "data": {
      "text/plain": [
       "PCA(random_state=100)"
      ]
     },
     "execution_count": 36,
     "metadata": {},
     "output_type": "execute_result"
    }
   ],
   "source": [
    "#Doing the PCA on the train data\n",
    "pca.fit(Xtrain)"
   ]
  },
  {
   "cell_type": "code",
   "execution_count": 37,
   "metadata": {},
   "outputs": [
    {
     "data": {
      "text/html": [
       "<div>\n",
       "<style scoped>\n",
       "    .dataframe tbody tr th:only-of-type {\n",
       "        vertical-align: middle;\n",
       "    }\n",
       "\n",
       "    .dataframe tbody tr th {\n",
       "        vertical-align: top;\n",
       "    }\n",
       "\n",
       "    .dataframe thead th {\n",
       "        text-align: right;\n",
       "    }\n",
       "</style>\n",
       "<table border=\"1\" class=\"dataframe\">\n",
       "  <thead>\n",
       "    <tr style=\"text-align: right;\">\n",
       "      <th></th>\n",
       "      <th>PC1</th>\n",
       "      <th>PC2</th>\n",
       "      <th>Feature</th>\n",
       "    </tr>\n",
       "  </thead>\n",
       "  <tbody>\n",
       "    <tr>\n",
       "      <th>0</th>\n",
       "      <td>0.466911</td>\n",
       "      <td>0.253614</td>\n",
       "      <td>area</td>\n",
       "    </tr>\n",
       "    <tr>\n",
       "      <th>1</th>\n",
       "      <td>0.131123</td>\n",
       "      <td>-0.501994</td>\n",
       "      <td>bedrooms</td>\n",
       "    </tr>\n",
       "    <tr>\n",
       "      <th>2</th>\n",
       "      <td>0.320620</td>\n",
       "      <td>-0.322073</td>\n",
       "      <td>bathrooms</td>\n",
       "    </tr>\n",
       "    <tr>\n",
       "      <th>3</th>\n",
       "      <td>0.181371</td>\n",
       "      <td>-0.391036</td>\n",
       "      <td>stories</td>\n",
       "    </tr>\n",
       "    <tr>\n",
       "      <th>4</th>\n",
       "      <td>0.298975</td>\n",
       "      <td>0.132957</td>\n",
       "      <td>mainroad</td>\n",
       "    </tr>\n",
       "    <tr>\n",
       "      <th>5</th>\n",
       "      <td>0.202099</td>\n",
       "      <td>-0.060133</td>\n",
       "      <td>guestroom</td>\n",
       "    </tr>\n",
       "    <tr>\n",
       "      <th>6</th>\n",
       "      <td>0.149324</td>\n",
       "      <td>-0.043661</td>\n",
       "      <td>basement</td>\n",
       "    </tr>\n",
       "    <tr>\n",
       "      <th>7</th>\n",
       "      <td>0.004933</td>\n",
       "      <td>-0.122714</td>\n",
       "      <td>hotwaterheating</td>\n",
       "    </tr>\n",
       "    <tr>\n",
       "      <th>8</th>\n",
       "      <td>0.257295</td>\n",
       "      <td>-0.113094</td>\n",
       "      <td>airconditioning</td>\n",
       "    </tr>\n",
       "    <tr>\n",
       "      <th>9</th>\n",
       "      <td>0.332199</td>\n",
       "      <td>0.046879</td>\n",
       "      <td>parking</td>\n",
       "    </tr>\n",
       "    <tr>\n",
       "      <th>10</th>\n",
       "      <td>0.236127</td>\n",
       "      <td>0.040036</td>\n",
       "      <td>prefarea</td>\n",
       "    </tr>\n",
       "    <tr>\n",
       "      <th>11</th>\n",
       "      <td>0.114761</td>\n",
       "      <td>-0.224264</td>\n",
       "      <td>semi-furnished</td>\n",
       "    </tr>\n",
       "    <tr>\n",
       "      <th>12</th>\n",
       "      <td>-0.247093</td>\n",
       "      <td>0.228075</td>\n",
       "      <td>unfurnished</td>\n",
       "    </tr>\n",
       "    <tr>\n",
       "      <th>13</th>\n",
       "      <td>0.349103</td>\n",
       "      <td>0.518731</td>\n",
       "      <td>areaperbedroom</td>\n",
       "    </tr>\n",
       "    <tr>\n",
       "      <th>14</th>\n",
       "      <td>0.219420</td>\n",
       "      <td>0.028230</td>\n",
       "      <td>bbratio</td>\n",
       "    </tr>\n",
       "  </tbody>\n",
       "</table>\n",
       "</div>"
      ],
      "text/plain": [
       "         PC1       PC2          Feature\n",
       "0   0.466911  0.253614             area\n",
       "1   0.131123 -0.501994         bedrooms\n",
       "2   0.320620 -0.322073        bathrooms\n",
       "3   0.181371 -0.391036          stories\n",
       "4   0.298975  0.132957         mainroad\n",
       "5   0.202099 -0.060133        guestroom\n",
       "6   0.149324 -0.043661         basement\n",
       "7   0.004933 -0.122714  hotwaterheating\n",
       "8   0.257295 -0.113094  airconditioning\n",
       "9   0.332199  0.046879          parking\n",
       "10  0.236127  0.040036         prefarea\n",
       "11  0.114761 -0.224264   semi-furnished\n",
       "12 -0.247093  0.228075      unfurnished\n",
       "13  0.349103  0.518731   areaperbedroom\n",
       "14  0.219420  0.028230          bbratio"
      ]
     },
     "execution_count": 37,
     "metadata": {},
     "output_type": "execute_result"
    }
   ],
   "source": [
    "components = pd.DataFrame({'PC1':pca.components_[0],'PC2':pca.components_[1],'Feature':X.columns })\n",
    "components"
   ]
  },
  {
   "cell_type": "code",
   "execution_count": null,
   "metadata": {},
   "outputs": [],
   "source": []
  },
  {
   "cell_type": "code",
   "execution_count": 38,
   "metadata": {},
   "outputs": [],
   "source": [
    "colnames = list(X_train.columns)\n",
    "pcs_df = pd.DataFrame({'PC1':pca.components_[0],'PC2':pca.components_[1],'PC3':pca.components_[2],\n",
    "                       'PC4':pca.components_[3],'PC5':pca.components_[4],\n",
    "                       'PC6':pca.components_[5],'PC7':pca.components_[6],'PC8':pca.components_[7],\n",
    "                       'PC9':pca.components_[8],'PC10':pca.components_[9],'PC11':pca.components_[10],\n",
    "                       'PC12':pca.components_[11],'PC13':pca.components_[12],\n",
    "                       'PC14':pca.components_[13],'PC15':pca.components_[14],'Feature':colnames})"
   ]
  },
  {
   "cell_type": "code",
   "execution_count": 39,
   "metadata": {},
   "outputs": [
    {
     "data": {
      "text/html": [
       "<div>\n",
       "<style scoped>\n",
       "    .dataframe tbody tr th:only-of-type {\n",
       "        vertical-align: middle;\n",
       "    }\n",
       "\n",
       "    .dataframe tbody tr th {\n",
       "        vertical-align: top;\n",
       "    }\n",
       "\n",
       "    .dataframe thead th {\n",
       "        text-align: right;\n",
       "    }\n",
       "</style>\n",
       "<table border=\"1\" class=\"dataframe\">\n",
       "  <thead>\n",
       "    <tr style=\"text-align: right;\">\n",
       "      <th></th>\n",
       "      <th>PC1</th>\n",
       "      <th>PC2</th>\n",
       "      <th>PC3</th>\n",
       "      <th>PC4</th>\n",
       "      <th>PC5</th>\n",
       "      <th>PC6</th>\n",
       "      <th>PC7</th>\n",
       "      <th>PC8</th>\n",
       "      <th>PC9</th>\n",
       "      <th>PC10</th>\n",
       "      <th>PC11</th>\n",
       "      <th>PC12</th>\n",
       "      <th>PC13</th>\n",
       "      <th>PC14</th>\n",
       "      <th>PC15</th>\n",
       "      <th>Feature</th>\n",
       "    </tr>\n",
       "  </thead>\n",
       "  <tbody>\n",
       "    <tr>\n",
       "      <th>0</th>\n",
       "      <td>0.466911</td>\n",
       "      <td>0.253614</td>\n",
       "      <td>-0.083731</td>\n",
       "      <td>-0.098983</td>\n",
       "      <td>-0.195499</td>\n",
       "      <td>0.070468</td>\n",
       "      <td>-0.273913</td>\n",
       "      <td>0.068730</td>\n",
       "      <td>0.373253</td>\n",
       "      <td>0.026806</td>\n",
       "      <td>-0.140376</td>\n",
       "      <td>-0.012615</td>\n",
       "      <td>-0.022318</td>\n",
       "      <td>-0.481254</td>\n",
       "      <td>0.431188</td>\n",
       "      <td>area</td>\n",
       "    </tr>\n",
       "    <tr>\n",
       "      <th>1</th>\n",
       "      <td>0.131123</td>\n",
       "      <td>-0.501994</td>\n",
       "      <td>-0.160550</td>\n",
       "      <td>-0.278909</td>\n",
       "      <td>-0.135076</td>\n",
       "      <td>0.203395</td>\n",
       "      <td>-0.371412</td>\n",
       "      <td>-0.095609</td>\n",
       "      <td>0.133579</td>\n",
       "      <td>-0.085303</td>\n",
       "      <td>-0.178241</td>\n",
       "      <td>-0.260943</td>\n",
       "      <td>-0.022348</td>\n",
       "      <td>0.522411</td>\n",
       "      <td>0.148812</td>\n",
       "      <td>bedrooms</td>\n",
       "    </tr>\n",
       "    <tr>\n",
       "      <th>2</th>\n",
       "      <td>0.320620</td>\n",
       "      <td>-0.322073</td>\n",
       "      <td>0.491292</td>\n",
       "      <td>0.048436</td>\n",
       "      <td>0.121014</td>\n",
       "      <td>0.035283</td>\n",
       "      <td>-0.146045</td>\n",
       "      <td>-0.186282</td>\n",
       "      <td>0.085092</td>\n",
       "      <td>-0.017169</td>\n",
       "      <td>-0.105249</td>\n",
       "      <td>-0.190787</td>\n",
       "      <td>-0.064773</td>\n",
       "      <td>-0.334211</td>\n",
       "      <td>-0.554016</td>\n",
       "      <td>bathrooms</td>\n",
       "    </tr>\n",
       "    <tr>\n",
       "      <th>3</th>\n",
       "      <td>0.181371</td>\n",
       "      <td>-0.391036</td>\n",
       "      <td>0.105153</td>\n",
       "      <td>-0.278201</td>\n",
       "      <td>-0.272607</td>\n",
       "      <td>-0.136165</td>\n",
       "      <td>0.295978</td>\n",
       "      <td>0.059345</td>\n",
       "      <td>0.201221</td>\n",
       "      <td>-0.066632</td>\n",
       "      <td>0.172781</td>\n",
       "      <td>0.679243</td>\n",
       "      <td>0.073244</td>\n",
       "      <td>0.008986</td>\n",
       "      <td>-0.012729</td>\n",
       "      <td>stories</td>\n",
       "    </tr>\n",
       "    <tr>\n",
       "      <th>4</th>\n",
       "      <td>0.298975</td>\n",
       "      <td>0.132957</td>\n",
       "      <td>-0.079610</td>\n",
       "      <td>-0.112608</td>\n",
       "      <td>-0.181201</td>\n",
       "      <td>0.154277</td>\n",
       "      <td>0.509562</td>\n",
       "      <td>-0.165138</td>\n",
       "      <td>-0.317433</td>\n",
       "      <td>-0.552863</td>\n",
       "      <td>-0.299977</td>\n",
       "      <td>-0.160644</td>\n",
       "      <td>-0.090223</td>\n",
       "      <td>-0.002066</td>\n",
       "      <td>-0.000785</td>\n",
       "      <td>mainroad</td>\n",
       "    </tr>\n",
       "    <tr>\n",
       "      <th>5</th>\n",
       "      <td>0.202099</td>\n",
       "      <td>-0.060133</td>\n",
       "      <td>-0.098555</td>\n",
       "      <td>-0.136369</td>\n",
       "      <td>0.516335</td>\n",
       "      <td>0.016967</td>\n",
       "      <td>0.084193</td>\n",
       "      <td>0.494864</td>\n",
       "      <td>0.173617</td>\n",
       "      <td>-0.373524</td>\n",
       "      <td>0.444739</td>\n",
       "      <td>-0.193923</td>\n",
       "      <td>-0.055659</td>\n",
       "      <td>0.013803</td>\n",
       "      <td>-0.003411</td>\n",
       "      <td>guestroom</td>\n",
       "    </tr>\n",
       "    <tr>\n",
       "      <th>6</th>\n",
       "      <td>0.149324</td>\n",
       "      <td>-0.043661</td>\n",
       "      <td>-0.258278</td>\n",
       "      <td>0.025179</td>\n",
       "      <td>0.619524</td>\n",
       "      <td>0.114393</td>\n",
       "      <td>-0.152936</td>\n",
       "      <td>-0.065915</td>\n",
       "      <td>-0.164892</td>\n",
       "      <td>0.011200</td>\n",
       "      <td>-0.456305</td>\n",
       "      <td>0.497569</td>\n",
       "      <td>-0.021707</td>\n",
       "      <td>-0.011530</td>\n",
       "      <td>-0.010790</td>\n",
       "      <td>basement</td>\n",
       "    </tr>\n",
       "    <tr>\n",
       "      <th>7</th>\n",
       "      <td>0.004933</td>\n",
       "      <td>-0.122714</td>\n",
       "      <td>0.076514</td>\n",
       "      <td>0.214124</td>\n",
       "      <td>-0.063123</td>\n",
       "      <td>0.729401</td>\n",
       "      <td>0.327913</td>\n",
       "      <td>0.378779</td>\n",
       "      <td>0.086030</td>\n",
       "      <td>0.352480</td>\n",
       "      <td>-0.118630</td>\n",
       "      <td>-0.010145</td>\n",
       "      <td>-0.016878</td>\n",
       "      <td>0.008806</td>\n",
       "      <td>0.004608</td>\n",
       "      <td>hotwaterheating</td>\n",
       "    </tr>\n",
       "    <tr>\n",
       "      <th>8</th>\n",
       "      <td>0.257295</td>\n",
       "      <td>-0.113094</td>\n",
       "      <td>-0.062545</td>\n",
       "      <td>-0.271541</td>\n",
       "      <td>0.014394</td>\n",
       "      <td>-0.464931</td>\n",
       "      <td>0.204855</td>\n",
       "      <td>0.360642</td>\n",
       "      <td>-0.289036</td>\n",
       "      <td>0.500269</td>\n",
       "      <td>-0.246527</td>\n",
       "      <td>-0.241065</td>\n",
       "      <td>-0.046889</td>\n",
       "      <td>0.006514</td>\n",
       "      <td>0.005219</td>\n",
       "      <td>airconditioning</td>\n",
       "    </tr>\n",
       "    <tr>\n",
       "      <th>9</th>\n",
       "      <td>0.332199</td>\n",
       "      <td>0.046879</td>\n",
       "      <td>0.024069</td>\n",
       "      <td>0.013447</td>\n",
       "      <td>-0.181235</td>\n",
       "      <td>0.227608</td>\n",
       "      <td>-0.359209</td>\n",
       "      <td>0.071095</td>\n",
       "      <td>-0.668183</td>\n",
       "      <td>0.064100</td>\n",
       "      <td>0.434333</td>\n",
       "      <td>0.161911</td>\n",
       "      <td>-0.048221</td>\n",
       "      <td>0.009496</td>\n",
       "      <td>-0.009763</td>\n",
       "      <td>parking</td>\n",
       "    </tr>\n",
       "    <tr>\n",
       "      <th>10</th>\n",
       "      <td>0.236127</td>\n",
       "      <td>0.040036</td>\n",
       "      <td>-0.284375</td>\n",
       "      <td>-0.147817</td>\n",
       "      <td>0.210926</td>\n",
       "      <td>0.126960</td>\n",
       "      <td>0.297638</td>\n",
       "      <td>-0.600778</td>\n",
       "      <td>0.128709</td>\n",
       "      <td>0.393982</td>\n",
       "      <td>0.375213</td>\n",
       "      <td>-0.111942</td>\n",
       "      <td>-0.064743</td>\n",
       "      <td>0.021767</td>\n",
       "      <td>-0.004757</td>\n",
       "      <td>prefarea</td>\n",
       "    </tr>\n",
       "    <tr>\n",
       "      <th>11</th>\n",
       "      <td>0.114761</td>\n",
       "      <td>-0.224264</td>\n",
       "      <td>-0.284369</td>\n",
       "      <td>0.568176</td>\n",
       "      <td>-0.142026</td>\n",
       "      <td>-0.212277</td>\n",
       "      <td>0.022495</td>\n",
       "      <td>0.025857</td>\n",
       "      <td>0.080547</td>\n",
       "      <td>-0.035805</td>\n",
       "      <td>0.039720</td>\n",
       "      <td>0.040304</td>\n",
       "      <td>-0.674623</td>\n",
       "      <td>0.018057</td>\n",
       "      <td>-0.004841</td>\n",
       "      <td>semi-furnished</td>\n",
       "    </tr>\n",
       "    <tr>\n",
       "      <th>12</th>\n",
       "      <td>-0.247093</td>\n",
       "      <td>0.228075</td>\n",
       "      <td>0.266873</td>\n",
       "      <td>-0.515305</td>\n",
       "      <td>0.046453</td>\n",
       "      <td>0.139110</td>\n",
       "      <td>-0.056260</td>\n",
       "      <td>0.012934</td>\n",
       "      <td>0.019038</td>\n",
       "      <td>0.049768</td>\n",
       "      <td>-0.031590</td>\n",
       "      <td>0.098685</td>\n",
       "      <td>-0.714919</td>\n",
       "      <td>0.022679</td>\n",
       "      <td>-0.011190</td>\n",
       "      <td>unfurnished</td>\n",
       "    </tr>\n",
       "    <tr>\n",
       "      <th>13</th>\n",
       "      <td>0.349103</td>\n",
       "      <td>0.518731</td>\n",
       "      <td>0.007141</td>\n",
       "      <td>0.073962</td>\n",
       "      <td>-0.113299</td>\n",
       "      <td>-0.052112</td>\n",
       "      <td>-0.066738</td>\n",
       "      <td>0.117889</td>\n",
       "      <td>0.274645</td>\n",
       "      <td>0.060210</td>\n",
       "      <td>-0.068353</td>\n",
       "      <td>0.119992</td>\n",
       "      <td>0.038672</td>\n",
       "      <td>0.522083</td>\n",
       "      <td>-0.444329</td>\n",
       "      <td>areaperbedroom</td>\n",
       "    </tr>\n",
       "    <tr>\n",
       "      <th>14</th>\n",
       "      <td>0.219420</td>\n",
       "      <td>0.028230</td>\n",
       "      <td>0.623440</td>\n",
       "      <td>0.255563</td>\n",
       "      <td>0.233745</td>\n",
       "      <td>-0.116036</td>\n",
       "      <td>0.112800</td>\n",
       "      <td>-0.130951</td>\n",
       "      <td>-0.027471</td>\n",
       "      <td>0.027235</td>\n",
       "      <td>0.008636</td>\n",
       "      <td>0.016367</td>\n",
       "      <td>-0.031805</td>\n",
       "      <td>0.330576</td>\n",
       "      <td>0.535690</td>\n",
       "      <td>bbratio</td>\n",
       "    </tr>\n",
       "  </tbody>\n",
       "</table>\n",
       "</div>"
      ],
      "text/plain": [
       "         PC1       PC2       PC3       PC4       PC5       PC6       PC7  \\\n",
       "0   0.466911  0.253614 -0.083731 -0.098983 -0.195499  0.070468 -0.273913   \n",
       "1   0.131123 -0.501994 -0.160550 -0.278909 -0.135076  0.203395 -0.371412   \n",
       "2   0.320620 -0.322073  0.491292  0.048436  0.121014  0.035283 -0.146045   \n",
       "3   0.181371 -0.391036  0.105153 -0.278201 -0.272607 -0.136165  0.295978   \n",
       "4   0.298975  0.132957 -0.079610 -0.112608 -0.181201  0.154277  0.509562   \n",
       "5   0.202099 -0.060133 -0.098555 -0.136369  0.516335  0.016967  0.084193   \n",
       "6   0.149324 -0.043661 -0.258278  0.025179  0.619524  0.114393 -0.152936   \n",
       "7   0.004933 -0.122714  0.076514  0.214124 -0.063123  0.729401  0.327913   \n",
       "8   0.257295 -0.113094 -0.062545 -0.271541  0.014394 -0.464931  0.204855   \n",
       "9   0.332199  0.046879  0.024069  0.013447 -0.181235  0.227608 -0.359209   \n",
       "10  0.236127  0.040036 -0.284375 -0.147817  0.210926  0.126960  0.297638   \n",
       "11  0.114761 -0.224264 -0.284369  0.568176 -0.142026 -0.212277  0.022495   \n",
       "12 -0.247093  0.228075  0.266873 -0.515305  0.046453  0.139110 -0.056260   \n",
       "13  0.349103  0.518731  0.007141  0.073962 -0.113299 -0.052112 -0.066738   \n",
       "14  0.219420  0.028230  0.623440  0.255563  0.233745 -0.116036  0.112800   \n",
       "\n",
       "         PC8       PC9      PC10      PC11      PC12      PC13      PC14  \\\n",
       "0   0.068730  0.373253  0.026806 -0.140376 -0.012615 -0.022318 -0.481254   \n",
       "1  -0.095609  0.133579 -0.085303 -0.178241 -0.260943 -0.022348  0.522411   \n",
       "2  -0.186282  0.085092 -0.017169 -0.105249 -0.190787 -0.064773 -0.334211   \n",
       "3   0.059345  0.201221 -0.066632  0.172781  0.679243  0.073244  0.008986   \n",
       "4  -0.165138 -0.317433 -0.552863 -0.299977 -0.160644 -0.090223 -0.002066   \n",
       "5   0.494864  0.173617 -0.373524  0.444739 -0.193923 -0.055659  0.013803   \n",
       "6  -0.065915 -0.164892  0.011200 -0.456305  0.497569 -0.021707 -0.011530   \n",
       "7   0.378779  0.086030  0.352480 -0.118630 -0.010145 -0.016878  0.008806   \n",
       "8   0.360642 -0.289036  0.500269 -0.246527 -0.241065 -0.046889  0.006514   \n",
       "9   0.071095 -0.668183  0.064100  0.434333  0.161911 -0.048221  0.009496   \n",
       "10 -0.600778  0.128709  0.393982  0.375213 -0.111942 -0.064743  0.021767   \n",
       "11  0.025857  0.080547 -0.035805  0.039720  0.040304 -0.674623  0.018057   \n",
       "12  0.012934  0.019038  0.049768 -0.031590  0.098685 -0.714919  0.022679   \n",
       "13  0.117889  0.274645  0.060210 -0.068353  0.119992  0.038672  0.522083   \n",
       "14 -0.130951 -0.027471  0.027235  0.008636  0.016367 -0.031805  0.330576   \n",
       "\n",
       "        PC15          Feature  \n",
       "0   0.431188             area  \n",
       "1   0.148812         bedrooms  \n",
       "2  -0.554016        bathrooms  \n",
       "3  -0.012729          stories  \n",
       "4  -0.000785         mainroad  \n",
       "5  -0.003411        guestroom  \n",
       "6  -0.010790         basement  \n",
       "7   0.004608  hotwaterheating  \n",
       "8   0.005219  airconditioning  \n",
       "9  -0.009763          parking  \n",
       "10 -0.004757         prefarea  \n",
       "11 -0.004841   semi-furnished  \n",
       "12 -0.011190      unfurnished  \n",
       "13 -0.444329   areaperbedroom  \n",
       "14  0.535690          bbratio  "
      ]
     },
     "execution_count": 39,
     "metadata": {},
     "output_type": "execute_result"
    }
   ],
   "source": [
    "pcs_df"
   ]
  },
  {
   "cell_type": "markdown",
   "metadata": {},
   "source": [
    "### Question No. 4 --"
   ]
  },
  {
   "cell_type": "code",
   "execution_count": 40,
   "metadata": {},
   "outputs": [
    {
     "data": {
      "text/plain": [
       "array([2.65559436, 2.03987639, 1.67075622, 1.47650977, 1.38551446,\n",
       "       1.05847568, 0.93569155, 0.85802694, 0.78835172, 0.70619007,\n",
       "       0.58761968, 0.45176984, 0.37115289, 0.03589467, 0.01804947])"
      ]
     },
     "execution_count": 40,
     "metadata": {},
     "output_type": "execute_result"
    }
   ],
   "source": [
    "pca.explained_variance_"
   ]
  },
  {
   "cell_type": "code",
   "execution_count": 41,
   "metadata": {},
   "outputs": [
    {
     "name": "stdout",
     "output_type": "stream",
     "text": [
      "pca.explained_variance_ratio_:  [17.7 13.6 11.1  9.8  9.2  7.   6.2  5.7  5.2  4.7  3.9  3.   2.5  0.2\n",
      "  0.1]\n"
     ]
    }
   ],
   "source": [
    "print(\"pca.explained_variance_ratio_: \",pca.explained_variance_ratio_.round(3)*100)"
   ]
  },
  {
   "cell_type": "code",
   "execution_count": null,
   "metadata": {},
   "outputs": [],
   "source": []
  },
  {
   "cell_type": "code",
   "execution_count": 42,
   "metadata": {},
   "outputs": [
    {
     "name": "stdout",
     "output_type": "stream",
     "text": [
      "[0.17657495 0.31220978 0.42330118 0.52147681 0.613602   0.68398184\n",
      " 0.74619755 0.80324921 0.85566805 0.90262382 0.94169564 0.97173458\n",
      " 0.99641316 0.99879986 1.        ]\n"
     ]
    }
   ],
   "source": [
    "print (pca.explained_variance_ratio_.cumsum())"
   ]
  },
  {
   "cell_type": "markdown",
   "metadata": {},
   "source": [
    "### Question No. 5 --"
   ]
  },
  {
   "cell_type": "code",
   "execution_count": 34,
   "metadata": {},
   "outputs": [
    {
     "data": {
      "text/plain": [
       "array([ 17.66,  31.22,  42.33,  52.15,  61.36,  68.4 ,  74.62,  80.33,\n",
       "        85.57,  90.27,  94.18,  97.18,  99.65,  99.89, 100.01])"
      ]
     },
     "execution_count": 34,
     "metadata": {},
     "output_type": "execute_result"
    }
   ],
   "source": [
    "np.cumsum(np.round(pca.explained_variance_ratio_, decimals=4)*100)"
   ]
  },
  {
   "cell_type": "markdown",
   "metadata": {},
   "source": [
    "### Question No. 6 --"
   ]
  },
  {
   "cell_type": "code",
   "execution_count": 35,
   "metadata": {},
   "outputs": [
    {
     "data": {
      "image/png": "[encoded data removed]",
      "text/plain": [
       "<Figure size 864x576 with 1 Axes>"
      ]
     },
     "metadata": {},
     "output_type": "display_data"
    }
   ],
   "source": [
    "#Making the screeplot - plotting the cumulative variance against the number of components\n",
    "%matplotlib inline\n",
    "fig = plt.figure(figsize = (12,8))\n",
    "plt.plot(np.cumsum(pca.explained_variance_ratio_))\n",
    "plt.xlabel('number of components')\n",
    "plt.ylabel('cumulative explained variance')\n",
    "plt.show()"
   ]
  },
  {
   "cell_type": "code",
   "execution_count": null,
   "metadata": {},
   "outputs": [],
   "source": []
  },
  {
   "cell_type": "code",
   "execution_count": 36,
   "metadata": {},
   "outputs": [
    {
     "data": {
      "text/plain": [
       "-0.0"
      ]
     },
     "execution_count": 36,
     "metadata": {},
     "output_type": "execute_result"
    }
   ],
   "source": [
    "product = np.dot(pca.components_[0],pca.components_[1])\n",
    "product.round(5)"
   ]
  },
  {
   "cell_type": "code",
   "execution_count": 37,
   "metadata": {},
   "outputs": [
    {
     "data": {
      "image/png": "[encoded data removed]",
      "text/plain": [
       "<Figure size 576x576 with 1 Axes>"
      ]
     },
     "metadata": {},
     "output_type": "display_data"
    }
   ],
   "source": [
    "%matplotlib inline\n",
    "fig = plt.figure(figsize = (8,8))\n",
    "plt.scatter(components.PC1, components.PC2)\n",
    "plt.xlabel('Principal Component 1')\n",
    "plt.ylabel('Principal Component 2')\n",
    "for i, txt in enumerate(components.Feature):\n",
    "    plt.annotate(txt, (components.PC1[i],components.PC2[i]))\n",
    "plt.tight_layout()\n",
    "plt.show()"
   ]
  },
  {
   "cell_type": "code",
   "execution_count": 38,
   "metadata": {},
   "outputs": [
    {
     "data": {
      "text/plain": [
       "(381, 15)"
      ]
     },
     "execution_count": 38,
     "metadata": {},
     "output_type": "execute_result"
    }
   ],
   "source": [
    "pca_train = pca.transform(Xtrain)\n",
    "pca_train.shape"
   ]
  },
  {
   "cell_type": "code",
   "execution_count": 39,
   "metadata": {},
   "outputs": [
    {
     "data": {
      "text/plain": [
       "array([[-1.89382742,  1.04859781,  1.12366889, ..., -0.29454944,\n",
       "        -0.04714831,  0.04708571],\n",
       "       [ 2.41706253,  0.75177319,  1.560377  , ..., -0.94956138,\n",
       "        -0.02958512,  0.02039269],\n",
       "       [ 1.61007146,  0.66810948, -1.0816004 , ...,  0.89630176,\n",
       "        -0.05850229,  0.02082749],\n",
       "       ...,\n",
       "       [ 0.70040283,  1.37263147, -0.36736473, ...,  1.01379374,\n",
       "        -0.12498705,  0.02645665],\n",
       "       [ 0.8871212 , -1.01626729,  1.66713038, ..., -0.6926666 ,\n",
       "         0.04631442, -0.11892837],\n",
       "       [ 2.20141726, -2.46443025,  1.02634462, ...,  0.89723256,\n",
       "         0.01122933, -0.0874458 ]])"
      ]
     },
     "execution_count": 39,
     "metadata": {},
     "output_type": "execute_result"
    }
   ],
   "source": [
    "pca_train"
   ]
  },
  {
   "cell_type": "markdown",
   "metadata": {},
   "source": [
    "### Question No. 7 --"
   ]
  },
  {
   "cell_type": "code",
   "execution_count": 40,
   "metadata": {},
   "outputs": [],
   "source": [
    "#creating correlation matrix for the principal components\n",
    "corrmat = np.corrcoef(pca_train.transpose())"
   ]
  },
  {
   "cell_type": "code",
   "execution_count": 41,
   "metadata": {},
   "outputs": [
    {
     "data": {
      "text/plain": [
       "<matplotlib.axes._subplots.AxesSubplot at 0x7f053901e5c0>"
      ]
     },
     "execution_count": 41,
     "metadata": {},
     "output_type": "execute_result"
    },
    {
     "data": {
      "image/png": "[encoded data removed]",
      "text/plain": [
       "<Figure size 1440x720 with 2 Axes>"
      ]
     },
     "metadata": {},
     "output_type": "display_data"
    }
   ],
   "source": [
    "#plotting the correlation matrix\n",
    "%matplotlib inline\n",
    "plt.figure(figsize = (20,10))\n",
    "sns.heatmap(corrmat,annot = True)"
   ]
  },
  {
   "cell_type": "code",
   "execution_count": null,
   "metadata": {},
   "outputs": [],
   "source": []
  },
  {
   "cell_type": "code",
   "execution_count": 42,
   "metadata": {},
   "outputs": [
    {
     "name": "stdout",
     "output_type": "stream",
     "text": [
      "max corr: 1.1151493214234663e-15 , min corr:  -2.733842144727878e-15\n"
     ]
    }
   ],
   "source": [
    "# 1s -> 0s in diagonals\n",
    "corrmat_nodiag = corrmat - np.diagflat(corrmat.diagonal())\n",
    "print(\"max corr:\",corrmat_nodiag.max(), \", min corr: \", corrmat_nodiag.min(),)\n",
    "# we see that correlations are indeed very close to 0"
   ]
  },
  {
   "cell_type": "code",
   "execution_count": 43,
   "metadata": {},
   "outputs": [
    {
     "data": {
      "text/plain": [
       "(164, 15)"
      ]
     },
     "execution_count": 43,
     "metadata": {},
     "output_type": "execute_result"
    }
   ],
   "source": [
    "#Applying selected components to the test data - 13 components\n",
    "pca_test = pca.transform(Xtest)\n",
    "pca_test.shape"
   ]
  },
  {
   "cell_type": "markdown",
   "metadata": {},
   "source": [
    "### Question No. 8 --"
   ]
  },
  {
   "cell_type": "code",
   "execution_count": 44,
   "metadata": {},
   "outputs": [
    {
     "name": "stdout",
     "output_type": "stream",
     "text": [
      "Mean squared error: 0.35\n",
      "R2 score: 0.65\n"
     ]
    }
   ],
   "source": [
    "import matplotlib.pyplot as plt\n",
    "import numpy as np\n",
    "from sklearn import  linear_model\n",
    "from sklearn.metrics import mean_squared_error, r2_score\n",
    "# Create linear regression object\n",
    "regrpca = linear_model.LinearRegression()\n",
    "# Train the model using the principal components of the transformed training sets\n",
    "regrpca.fit(pca_train, ytrain)\n",
    "# Make predictions using the principal components of the transformed testing set\n",
    "y_pca_pred = regrpca.predict(pca_test)\n",
    "print(\"Mean squared error: %.2f\" % mean_squared_error(ytest, y_pca_pred))\n",
    "# Explained variance score: 1 is perfect prediction\n",
    "print('R2 score: %.2f' % r2_score(ytest, y_pca_pred))"
   ]
  },
  {
   "cell_type": "code",
   "execution_count": null,
   "metadata": {},
   "outputs": [],
   "source": []
  },
  {
   "cell_type": "code",
   "execution_count": 45,
   "metadata": {},
   "outputs": [
    {
     "name": "stdout",
     "output_type": "stream",
     "text": [
      "Mean squared error: 0.33\n",
      "R2 score: 0.66\n"
     ]
    }
   ],
   "source": [
    "pca = PCA(n_components=6,random_state=100)\n",
    "#Scale and transform data to get Principal Components\n",
    "\n",
    "Xtrain_reduced = pca.fit_transform(Xtrain)\n",
    "Xtest_reduced = pca.transform(Xtest)\n",
    "regrpca6 = linear_model.LinearRegression()\n",
    "# Train the model using the principal components of the transformed training sets\n",
    "regrpca6.fit(Xtrain_reduced, ytrain)\n",
    "# Make predictions using the principal components of the transformed testing set\n",
    "y_pred = regrpca6.predict(Xtest_reduced)\n",
    "print(\"Mean squared error: %.2f\" % mean_squared_error(ytest, y_pred))\n",
    "# Explained variance score: 1 is perfect prediction\n",
    "print('R2 score: %.2f' % r2_score(ytest, y_pred))\n"
   ]
  },
  {
   "cell_type": "code",
   "execution_count": null,
   "metadata": {},
   "outputs": [],
   "source": []
  },
  {
   "cell_type": "code",
   "execution_count": null,
   "metadata": {},
   "outputs": [],
   "source": []
  },
  {
   "cell_type": "code",
   "execution_count": null,
   "metadata": {},
   "outputs": [],
   "source": []
  },
  {
   "cell_type": "code",
   "execution_count": null,
   "metadata": {},
   "outputs": [],
   "source": []
  },
  {
   "cell_type": "code",
   "execution_count": null,
   "metadata": {},
   "outputs": [],
   "source": []
  },
  {
   "cell_type": "code",
   "execution_count": null,
   "metadata": {},
   "outputs": [],
   "source": []
  },
  {
   "cell_type": "code",
   "execution_count": null,
   "metadata": {},
   "outputs": [],
   "source": []
  },
  {
   "cell_type": "code",
   "execution_count": null,
   "metadata": {},
   "outputs": [],
   "source": []
  }
 ],
 "metadata": {
  "kernelspec": {
   "display_name": "Python 3",
   "language": "python",
   "name": "python3"
  },
  "language_info": {
   "codemirror_mode": {
    "name": "ipython",
    "version": 3
   },
   "file_extension": ".py",
   "mimetype": "text/x-python",
   "name": "python",
   "nbconvert_exporter": "python",
   "pygments_lexer": "ipython3",
   "version": "3.8.5"
  }
 },
 "nbformat": 4,
 "nbformat_minor": 2
}
